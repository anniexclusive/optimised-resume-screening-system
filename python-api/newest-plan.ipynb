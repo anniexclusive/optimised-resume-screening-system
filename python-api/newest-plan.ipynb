{
 "cells": [
  {
   "cell_type": "code",
   "execution_count": 4,
   "id": "ed4a376e-0cc6-4d8c-9b7a-16a5757d92dc",
   "metadata": {},
   "outputs": [],
   "source": [
    "import pandas as pd\n",
    "import numpy as np\n",
    "import re\n",
    "import string\n",
    "from sklearn.feature_extraction.text import TfidfVectorizer\n",
    "from sklearn.model_selection import train_test_split\n",
    "from sklearn.ensemble import RandomForestClassifier\n",
    "from sklearn.metrics import accuracy_score, classification_report\n",
    "from sklearn.neighbors import NearestNeighbors\n",
    "import joblib\n",
    "import pickle"
   ]
  },
  {
   "cell_type": "code",
   "execution_count": null,
   "id": "85c6e875-a951-4e22-86e6-dd9b25f1dc5b",
   "metadata": {},
   "outputs": [],
   "source": [
    "# Load dataset (Assuming it's a CSV file from Kaggle)\n",
    "df = pd.read_csv('resume_dataset.csv')  # Replace with actual file name"
   ]
  },
  {
   "cell_type": "code",
   "execution_count": 8,
   "id": "ae997d69-f381-4290-a893-41228ac52d4b",
   "metadata": {},
   "outputs": [],
   "source": [
    "# Load model\n",
    "model = joblib.load(open('resume_screening_model.pkl', 'rb'))\n",
    "vectorizer = joblib.load(open('tfidf_vectorizer.pkl', 'rb'))"
   ]
  },
  {
   "cell_type": "code",
   "execution_count": 10,
   "id": "2a47b5a6-b3f4-4154-a462-d8b1e6e11b5c",
   "metadata": {},
   "outputs": [
    {
     "name": "stderr",
     "output_type": "stream",
     "text": [
      "<>:6: SyntaxWarning: invalid escape sequence '\\d'\n",
      "<>:6: SyntaxWarning: invalid escape sequence '\\d'\n",
      "/var/folders/95/qrh427z549vgggs2kt3jz9r00000gn/T/ipykernel_43080/3763753363.py:6: SyntaxWarning: invalid escape sequence '\\d'\n",
      "  text = re.sub(\"\\d+\", \"\", text)  # Remove numbers\n"
     ]
    }
   ],
   "source": [
    "# Advanced text preprocessing using spaCy\n",
    "def nlp_preprocess(text):\n",
    "    if isinstance(text, str):\n",
    "        doc = nlp(text.lower())  # Convert to lowercase and process text\n",
    "        tokens = [token.lemma_ for token in doc if not token.is_stop and not token.is_punct]\n",
    "        return \" \".join(tokens)\n",
    "    return \"\"\n"
   ]
  },
  {
   "cell_type": "code",
   "execution_count": null,
   "id": "68a583ea-e23f-41bc-8133-c8105ae95414",
   "metadata": {},
   "outputs": [],
   "source": [
    "# Load applicants' resumes (Assuming it's a CSV file with 'resume_text' column)\n",
    "df_applicants = pd.read_csv('resumes.csv')  # Replace with actual file name\n",
    "df_applicants = df_applicants[:5]\n",
    "df_applicants['cleaned_resume'] = df_applicants['resume_text'].apply(clean_text)"
   ]
  },
  {
   "cell_type": "code",
   "execution_count": null,
   "id": "23f8ea41-3383-4028-bc62-9f271ea91d95",
   "metadata": {},
   "outputs": [],
   "source": [
    "# Combine job title and job description for ranking\n",
    "def combine_title_description(job_title, job_description):\n",
    "    return clean_text(job_title) + \" \" + clean_text(job_description)"
   ]
  },
  {
   "cell_type": "code",
   "execution_count": null,
   "id": "b9eb0213-c418-49b1-9565-4895f25088cd",
   "metadata": {},
   "outputs": [],
   "source": [
    "# Resume ranking based on job title and description\n",
    "def rank_resumes(job_title, job_description, top_n=5):\n",
    "    job_text_combined = combine_title_description(job_title, job_description)\n",
    "    job_vector = vectorizer.transform([job_text_combined])\n",
    "    \n",
    "    # Predict job category using the trained model\n",
    "    predicted_category = model.predict(job_vector)[0]\n",
    "    \n",
    "    # Filter applicants' resumes by predicted category (if category exists in training data)\n",
    "    filtered_df = df_applicants.copy()\n",
    "    \n",
    "    # Use Nearest Neighbors to find similar resumes among applicants\n",
    "    if not filtered_df.empty:\n",
    "        X_filtered = vectorizer.transform(filtered_df['cleaned_resume'])\n",
    "        nn = NearestNeighbors(n_neighbors=min(top_n, len(filtered_df)), metric='cosine')\n",
    "        nn.fit(X_filtered)\n",
    "        distances, indices = nn.kneighbors(job_vector)\n",
    "        return filtered_df.iloc[indices[0]]\n",
    "    else:\n",
    "        return pd.DataFrame()  # Return empty DataFrame if no resumes are found"
   ]
  },
  {
   "cell_type": "code",
   "execution_count": null,
   "id": "b409823b-8a10-406d-8d82-02574a6fb4cf",
   "metadata": {},
   "outputs": [],
   "source": [
    "# Example usage\n",
    "job_title = \"Designer\"\n",
    "job_desc = \"Looking for a designer to create visually compelling designs for digital and print media, ensuring alignment with brand guidelines and collaborating with teams to deliver creative solutions. Proficiency in design tools and a strong portfolio are required.\"\n",
    "top_resumes = rank_resumes(job_title, job_desc, top_n=5)\n",
    "print(top_resumes[['resume_text']])"
   ]
  },
  {
   "cell_type": "code",
   "execution_count": null,
   "id": "032fce66-bca2-4ca8-afae-e1b8f7711ac8",
   "metadata": {},
   "outputs": [],
   "source": []
  },
  {
   "cell_type": "code",
   "execution_count": 122,
   "id": "43e7e04f-2fd5-4f22-9ca7-d18ca4ef3a96",
   "metadata": {},
   "outputs": [],
   "source": [
    "#final step above "
   ]
  },
  {
   "cell_type": "code",
   "execution_count": null,
   "id": "92647db5-291a-407f-9397-237416da3f9c",
   "metadata": {},
   "outputs": [],
   "source": []
  },
  {
   "cell_type": "code",
   "execution_count": null,
   "id": "e5deb9f7-0510-403b-9175-58a916bbe063",
   "metadata": {},
   "outputs": [],
   "source": []
  }
 ],
 "metadata": {
  "kernelspec": {
   "display_name": "Python [conda env:base] *",
   "language": "python",
   "name": "conda-base-py"
  },
  "language_info": {
   "codemirror_mode": {
    "name": "ipython",
    "version": 3
   },
   "file_extension": ".py",
   "mimetype": "text/x-python",
   "name": "python",
   "nbconvert_exporter": "python",
   "pygments_lexer": "ipython3",
   "version": "3.12.2"
  }
 },
 "nbformat": 4,
 "nbformat_minor": 5
}
