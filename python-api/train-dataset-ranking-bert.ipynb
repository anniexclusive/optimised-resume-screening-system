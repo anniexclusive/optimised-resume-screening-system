{
 "cells": [
  {
   "cell_type": "code",
   "execution_count": 2,
   "id": "e596d711-ac29-4da7-b19a-0732ce39de38",
   "metadata": {},
   "outputs": [
    {
     "name": "stderr",
     "output_type": "stream",
     "text": [
      "[nltk_data] Downloading package stopwords to\n",
      "[nltk_data]     /Users/anneezurike/nltk_data...\n",
      "[nltk_data]   Package stopwords is already up-to-date!\n"
     ]
    }
   ],
   "source": [
    "from sentence_transformers import SentenceTransformer\n",
    "from sklearn.metrics.pairwise import cosine_similarity\n",
    "import pandas as pd\n",
    "import numpy as np\n",
    "import PyPDF2\n",
    "import re\n",
    "import nltk\n",
    "from nltk.corpus import stopwords\n",
    "\n",
    "# Download stopwords if not already downloaded\n",
    "nltk.download('stopwords')\n",
    "stop_words = set(stopwords.words(\"english\"))\n",
    "\n",
    "# Load pre-trained BERT model for embeddings\n",
    "bert_model = SentenceTransformer('all-MiniLM-L6-v2')"
   ]
  },
  {
   "cell_type": "code",
   "execution_count": 4,
   "id": "70819834-71c5-4e4e-a0bb-c0eb39cc50ee",
   "metadata": {},
   "outputs": [],
   "source": [
    "# Load dataset (update the filename as needed)\n",
    "df = pd.read_csv(\"synthetic_resumes_5000.csv\")"
   ]
  },
  {
   "cell_type": "code",
   "execution_count": 6,
   "id": "e2b05809-4964-4f76-8c19-8cbf08158d2a",
   "metadata": {},
   "outputs": [],
   "source": [
    "def clean_text(text):\n",
    "    # Check if the text is valid and non-empty\n",
    "    if pd.isna(text) or text.strip() == \"\":\n",
    "        return \"\"  # or return some default text\n",
    "    \"\"\"Cleans the extracted text by removing special characters, numbers, and stopwords.\"\"\"\n",
    "    text = text.lower()  # Convert to lowercase\n",
    "    text = re.sub(r'[^a-zA-Z\\s]', '', text)  # Remove special characters and numbers\n",
    "    text = \" \".join([word for word in text.split() if word not in stop_words])  # Remove stopwords\n",
    "    return text"
   ]
  },
  {
   "cell_type": "code",
   "execution_count": 8,
   "id": "02c27861-174e-4055-a42c-63c131a585c0",
   "metadata": {},
   "outputs": [],
   "source": [
    "def extract_text_from_pdf(pdf_file):\n",
    "    \"\"\"Extracts text from a PDF resume (given a PDF file object) and cleans it.\"\"\"\n",
    "    if isinstance(pdf_file, str):  # If the input is a file path, open the file\n",
    "        with open(pdf_file, \"rb\") as file:\n",
    "            reader = PyPDF2.PdfReader(file)\n",
    "            text = \" \".join([page.extract_text() for page in reader.pages if page.extract_text()])\n",
    "    else:  # If the input is already a file object (PdfFileReader accepts file-like objects)\n",
    "        reader = PyPDF2.PdfReader(pdf_file)\n",
    "        text = \" \".join([page.extract_text() for page in reader.pages if page.extract_text()])\n",
    "\n",
    "    return clean_text(text)"
   ]
  },
  {
   "cell_type": "code",
   "execution_count": 10,
   "id": "f31a0855-f217-4678-a27f-25e9f61c1241",
   "metadata": {},
   "outputs": [],
   "source": [
    "# Extract relevant skills and qualifications from resume\n",
    "def extract_resume_info(text):\n",
    "    doc = nlp(cleaned_text)\n",
    "    skills = [ent.text for ent in doc.ents if ent.label_ in [\"SKILLS\", \"EDUCATION\", \"DEGREE\"]]\n",
    "    # skills = {ent.label_: ent.text for ent in doc.ents}\n",
    "    return \", \".join(set(skills))  # Remove duplicates\n",
    "    # return skills"
   ]
  },
  {
   "cell_type": "code",
   "execution_count": 12,
   "id": "9be9cdb3-dd2a-41d7-afe8-2635820799cf",
   "metadata": {},
   "outputs": [],
   "source": [
    "def rank_resumes_with_bert(resumes, job_description):\n",
    "    \"\"\"Ranks resumes using BERT embeddings and cosine similarity.\"\"\"\n",
    "    # Convert job description to embedding\n",
    "    job_embedding = bert_model.encode(job_description).reshape(1, -1)\n",
    "\n",
    "    # Convert resumes to embeddings\n",
    "    # if isinstance(resumes, str):  # If a single string is passed, convert to list\n",
    "    #     resumes = [resumes]\n",
    "    \n",
    "    # Convert resumes to embeddings\n",
    "    resume_embeddings = np.array([bert_model.encode(resume) for resume in resumes])\n",
    "    # resume_embeddings = np.stack([bert_model.encode(resume) for resume in resumes])\n",
    "    # resume_embeddings = np.vstack([bert_model.encode(resume) for resume in resumes])\n",
    "    \n",
    "    # Compute similarity scores\n",
    "    similarity_scores = cosine_similarity(resume_embeddings, job_embedding).flatten()\n",
    "    \n",
    "    return similarity_scores"
   ]
  },
  {
   "cell_type": "code",
   "execution_count": 14,
   "id": "1e56ffd1-7988-4726-8750-42d01a94a330",
   "metadata": {},
   "outputs": [],
   "source": [
    "# Combine relevant text fields for resume representation\n",
    "resume_texts = (df[\"Skills\"] + \" \" + df[\"Education\"] + \" \" + df[\"Certifications\"]).tolist()\n",
    "job_descriptions = df[\"Job Description\"].tolist()"
   ]
  },
  {
   "cell_type": "code",
   "execution_count": 16,
   "id": "84ed86ee-be3d-4c74-b90c-ab1487978fcb",
   "metadata": {},
   "outputs": [
    {
     "ename": "TypeError",
     "evalue": "'float' object is not subscriptable",
     "output_type": "error",
     "traceback": [
      "\u001b[0;31m---------------------------------------------------------------------------\u001b[0m",
      "\u001b[0;31mTypeError\u001b[0m                                 Traceback (most recent call last)",
      "Cell \u001b[0;32mIn[16], line 5\u001b[0m\n\u001b[1;32m      2\u001b[0m sample_job_description \u001b[38;5;241m=\u001b[39m \u001b[38;5;124m\"\u001b[39m\u001b[38;5;124mLooking for a Software Engineer with Python, Java, and SQL experience.\u001b[39m\u001b[38;5;124m\"\u001b[39m\n\u001b[1;32m      4\u001b[0m \u001b[38;5;66;03m# Rank resumes using BERT embeddings\u001b[39;00m\n\u001b[0;32m----> 5\u001b[0m df[\u001b[38;5;124m\"\u001b[39m\u001b[38;5;124mBERT Score\u001b[39m\u001b[38;5;124m\"\u001b[39m] \u001b[38;5;241m=\u001b[39m rank_resumes_with_bert(resume_texts, sample_job_description)\n",
      "Cell \u001b[0;32mIn[12], line 11\u001b[0m, in \u001b[0;36mrank_resumes_with_bert\u001b[0;34m(resumes, job_description)\u001b[0m\n\u001b[1;32m      4\u001b[0m job_embedding \u001b[38;5;241m=\u001b[39m bert_model\u001b[38;5;241m.\u001b[39mencode(job_description)\u001b[38;5;241m.\u001b[39mreshape(\u001b[38;5;241m1\u001b[39m, \u001b[38;5;241m-\u001b[39m\u001b[38;5;241m1\u001b[39m)\n\u001b[1;32m      6\u001b[0m \u001b[38;5;66;03m# Convert resumes to embeddings\u001b[39;00m\n\u001b[1;32m      7\u001b[0m \u001b[38;5;66;03m# if isinstance(resumes, str):  # If a single string is passed, convert to list\u001b[39;00m\n\u001b[1;32m      8\u001b[0m \u001b[38;5;66;03m#     resumes = [resumes]\u001b[39;00m\n\u001b[1;32m      9\u001b[0m \n\u001b[1;32m     10\u001b[0m \u001b[38;5;66;03m# Convert resumes to embeddings\u001b[39;00m\n\u001b[0;32m---> 11\u001b[0m resume_embeddings \u001b[38;5;241m=\u001b[39m np\u001b[38;5;241m.\u001b[39marray([bert_model\u001b[38;5;241m.\u001b[39mencode(resume) \u001b[38;5;28;01mfor\u001b[39;00m resume \u001b[38;5;129;01min\u001b[39;00m resumes])\n\u001b[1;32m     12\u001b[0m \u001b[38;5;66;03m# resume_embeddings = np.stack([bert_model.encode(resume) for resume in resumes])\u001b[39;00m\n\u001b[1;32m     13\u001b[0m \u001b[38;5;66;03m# resume_embeddings = np.vstack([bert_model.encode(resume) for resume in resumes])\u001b[39;00m\n\u001b[1;32m     14\u001b[0m \n\u001b[1;32m     15\u001b[0m \u001b[38;5;66;03m# Compute similarity scores\u001b[39;00m\n\u001b[1;32m     16\u001b[0m similarity_scores \u001b[38;5;241m=\u001b[39m cosine_similarity(resume_embeddings, job_embedding)\u001b[38;5;241m.\u001b[39mflatten()\n",
      "File \u001b[0;32m/opt/anaconda3/lib/python3.12/site-packages/sentence_transformers/SentenceTransformer.py:591\u001b[0m, in \u001b[0;36mSentenceTransformer.encode\u001b[0;34m(self, sentences, prompt_name, prompt, batch_size, show_progress_bar, output_value, precision, convert_to_numpy, convert_to_tensor, device, normalize_embeddings, **kwargs)\u001b[0m\n\u001b[1;32m    589\u001b[0m \u001b[38;5;28;01mfor\u001b[39;00m start_index \u001b[38;5;129;01min\u001b[39;00m trange(\u001b[38;5;241m0\u001b[39m, \u001b[38;5;28mlen\u001b[39m(sentences), batch_size, desc\u001b[38;5;241m=\u001b[39m\u001b[38;5;124m\"\u001b[39m\u001b[38;5;124mBatches\u001b[39m\u001b[38;5;124m\"\u001b[39m, disable\u001b[38;5;241m=\u001b[39m\u001b[38;5;129;01mnot\u001b[39;00m show_progress_bar):\n\u001b[1;32m    590\u001b[0m     sentences_batch \u001b[38;5;241m=\u001b[39m sentences_sorted[start_index : start_index \u001b[38;5;241m+\u001b[39m batch_size]\n\u001b[0;32m--> 591\u001b[0m     features \u001b[38;5;241m=\u001b[39m \u001b[38;5;28mself\u001b[39m\u001b[38;5;241m.\u001b[39mtokenize(sentences_batch)\n\u001b[1;32m    592\u001b[0m     \u001b[38;5;28;01mif\u001b[39;00m \u001b[38;5;28mself\u001b[39m\u001b[38;5;241m.\u001b[39mdevice\u001b[38;5;241m.\u001b[39mtype \u001b[38;5;241m==\u001b[39m \u001b[38;5;124m\"\u001b[39m\u001b[38;5;124mhpu\u001b[39m\u001b[38;5;124m\"\u001b[39m:\n\u001b[1;32m    593\u001b[0m         \u001b[38;5;28;01mif\u001b[39;00m \u001b[38;5;124m\"\u001b[39m\u001b[38;5;124minput_ids\u001b[39m\u001b[38;5;124m\"\u001b[39m \u001b[38;5;129;01min\u001b[39;00m features:\n",
      "File \u001b[0;32m/opt/anaconda3/lib/python3.12/site-packages/sentence_transformers/SentenceTransformer.py:1056\u001b[0m, in \u001b[0;36mSentenceTransformer.tokenize\u001b[0;34m(self, texts)\u001b[0m\n\u001b[1;32m   1045\u001b[0m \u001b[38;5;28;01mdef\u001b[39;00m \u001b[38;5;21mtokenize\u001b[39m(\u001b[38;5;28mself\u001b[39m, texts: \u001b[38;5;28mlist\u001b[39m[\u001b[38;5;28mstr\u001b[39m] \u001b[38;5;241m|\u001b[39m \u001b[38;5;28mlist\u001b[39m[\u001b[38;5;28mdict\u001b[39m] \u001b[38;5;241m|\u001b[39m \u001b[38;5;28mlist\u001b[39m[\u001b[38;5;28mtuple\u001b[39m[\u001b[38;5;28mstr\u001b[39m, \u001b[38;5;28mstr\u001b[39m]]) \u001b[38;5;241m-\u001b[39m\u001b[38;5;241m>\u001b[39m \u001b[38;5;28mdict\u001b[39m[\u001b[38;5;28mstr\u001b[39m, Tensor]:\n\u001b[1;32m   1046\u001b[0m \u001b[38;5;250m    \u001b[39m\u001b[38;5;124;03m\"\"\"\u001b[39;00m\n\u001b[1;32m   1047\u001b[0m \u001b[38;5;124;03m    Tokenizes the texts.\u001b[39;00m\n\u001b[1;32m   1048\u001b[0m \n\u001b[0;32m   (...)\u001b[0m\n\u001b[1;32m   1054\u001b[0m \u001b[38;5;124;03m            \"attention_mask\", and \"token_type_ids\".\u001b[39;00m\n\u001b[1;32m   1055\u001b[0m \u001b[38;5;124;03m    \"\"\"\u001b[39;00m\n\u001b[0;32m-> 1056\u001b[0m     \u001b[38;5;28;01mreturn\u001b[39;00m \u001b[38;5;28mself\u001b[39m\u001b[38;5;241m.\u001b[39m_first_module()\u001b[38;5;241m.\u001b[39mtokenize(texts)\n",
      "File \u001b[0;32m/opt/anaconda3/lib/python3.12/site-packages/sentence_transformers/models/Transformer.py:494\u001b[0m, in \u001b[0;36mTransformer.tokenize\u001b[0;34m(self, texts, padding)\u001b[0m\n\u001b[1;32m    492\u001b[0m batch1, batch2 \u001b[38;5;241m=\u001b[39m [], []\n\u001b[1;32m    493\u001b[0m \u001b[38;5;28;01mfor\u001b[39;00m text_tuple \u001b[38;5;129;01min\u001b[39;00m texts:\n\u001b[0;32m--> 494\u001b[0m     batch1\u001b[38;5;241m.\u001b[39mappend(text_tuple[\u001b[38;5;241m0\u001b[39m])\n\u001b[1;32m    495\u001b[0m     batch2\u001b[38;5;241m.\u001b[39mappend(text_tuple[\u001b[38;5;241m1\u001b[39m])\n\u001b[1;32m    496\u001b[0m to_tokenize \u001b[38;5;241m=\u001b[39m [batch1, batch2]\n",
      "\u001b[0;31mTypeError\u001b[0m: 'float' object is not subscriptable"
     ]
    }
   ],
   "source": [
    "# Choose a sample job description for ranking\n",
    "sample_job_description = \"Looking for a Software Engineer with Python, Java, and SQL experience.\"\n",
    "\n",
    "# Rank resumes using BERT embeddings\n",
    "df[\"BERT Score\"] = rank_resumes_with_bert(resume_texts, sample_job_description)\n"
   ]
  },
  {
   "cell_type": "code",
   "execution_count": null,
   "id": "d7ad890a-fe17-4212-9aa9-7cec6efadf49",
   "metadata": {},
   "outputs": [],
   "source": [
    "# Sort resumes based on similarity scores\n",
    "df_sorted = df.sort_values(by=\"BERT Score\", ascending=False)\n",
    "\n",
    "# Save ranked results to a new CSV file\n",
    "# df_sorted.to_csv(\"ranked_resumes_bert.csv\", index=False)\n",
    "\n",
    "print(\"Resume ranking complete using BERT. Check 'ranked_resumes_bert.csv' for results.\")"
   ]
  },
  {
   "cell_type": "code",
   "execution_count": 17,
   "id": "cb4aa842-d158-494c-817c-f53f819af1dc",
   "metadata": {},
   "outputs": [],
   "source": [
    "# Example usage for real resume\n",
    "real_resume_text = extract_text_from_pdf(\"sample_resume.pdf\")\n",
    "real_job_description = clean_text(sample_job_description)\n",
    "real_resume_score = rank_resumes_with_bert([real_resume_text], real_job_description)[0]\n",
    "\n",
    "print(f\"Similarity Score for Real Resume (BERT): {real_resume_score:.4f}\")"
   ]
  },
  {
   "cell_type": "code",
   "execution_count": null,
   "id": "cdd37809-a502-4320-a382-4f52ad9b02c4",
   "metadata": {},
   "outputs": [],
   "source": []
  }
 ],
 "metadata": {
  "kernelspec": {
   "display_name": "Python [conda env:base] *",
   "language": "python",
   "name": "conda-base-py"
  },
  "language_info": {
   "codemirror_mode": {
    "name": "ipython",
    "version": 3
   },
   "file_extension": ".py",
   "mimetype": "text/x-python",
   "name": "python",
   "nbconvert_exporter": "python",
   "pygments_lexer": "ipython3",
   "version": "3.12.2"
  }
 },
 "nbformat": 4,
 "nbformat_minor": 5
}
