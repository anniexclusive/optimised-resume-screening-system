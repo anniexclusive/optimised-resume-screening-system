{
 "cells": [
  {
   "cell_type": "code",
   "execution_count": 1,
   "id": "e596d711-ac29-4da7-b19a-0732ce39de38",
   "metadata": {},
   "outputs": [
    {
     "name": "stderr",
     "output_type": "stream",
     "text": [
      "[nltk_data] Downloading package stopwords to\n",
      "[nltk_data]     /Users/anneezurike/nltk_data...\n",
      "[nltk_data]   Package stopwords is already up-to-date!\n"
     ]
    }
   ],
   "source": [
    "from flask import Flask, request, jsonify, json\n",
    "import pandas as pd\n",
    "from sklearn.feature_extraction.text import TfidfVectorizer\n",
    "from sklearn.metrics.pairwise import cosine_similarity\n",
    "import numpy as np\n",
    "import PyPDF2\n",
    "import spacy  # NLP library for text processing\n",
    "import re\n",
    "from nltk.corpus import stopwords\n",
    "import nltk\n",
    "from difflib import get_close_matches\n",
    "\n",
    "\n",
    "# Download stopwords if not already downloaded\n",
    "nltk.download('stopwords')\n",
    "stop_words = set(stopwords.words(\"english\"))\n",
    "# Load spaCy NLP model\n",
    "nlp = spacy.load(\"en_core_web_sm\")"
   ]
  },
  {
   "cell_type": "code",
   "execution_count": 3,
   "id": "70819834-71c5-4e4e-a0bb-c0eb39cc50ee",
   "metadata": {},
   "outputs": [],
   "source": [
    "# Load dataset (update the filename as needed)\n",
    "df = pd.read_csv(\"synthetic_resumes_5000.csv\")\n",
    "\n",
    "# Combine relevant text fields for resume representation\n",
    "resume_texts = df[\"Skills\"] + \" \" + df[\"Education\"] + \" \" + df[\"Certifications\"]\n",
    "job_descriptions = df[\"Job Description\"]"
   ]
  },
  {
   "cell_type": "code",
   "execution_count": 5,
   "id": "e2b05809-4964-4f76-8c19-8cbf08158d2a",
   "metadata": {},
   "outputs": [],
   "source": [
    "def clean_text(text):\n",
    "    # Check if the text is valid and non-empty\n",
    "    if pd.isna(text) or text.strip() == \"\":\n",
    "        return \"\"  # or return some default text\n",
    "    \"\"\"Cleans the extracted text by removing special characters, numbers, and stopwords.\"\"\"\n",
    "    text = text.lower()  # Convert to lowercase\n",
    "    text = re.sub(r'[^a-zA-Z\\s]', '', text)  # Remove special characters and numbers\n",
    "    text = \" \".join([word for word in text.split() if word not in stop_words])  # Remove stopwords\n",
    "    return text"
   ]
  },
  {
   "cell_type": "code",
   "execution_count": 7,
   "id": "02c27861-174e-4055-a42c-63c131a585c0",
   "metadata": {},
   "outputs": [],
   "source": [
    "def extract_text_from_pdf(pdf_file):\n",
    "    \"\"\"Extracts text from a PDF resume (given a PDF file object) and cleans it.\"\"\"\n",
    "    if isinstance(pdf_file, str):  # If the input is a file path, open the file\n",
    "        with open(pdf_file, \"rb\") as file:\n",
    "            reader = PyPDF2.PdfReader(file)\n",
    "            text = \" \".join([page.extract_text() for page in reader.pages if page.extract_text()])\n",
    "    else:  # If the input is already a file object (PdfFileReader accepts file-like objects)\n",
    "        reader = PyPDF2.PdfReader(pdf_file)\n",
    "        text = \" \".join([page.extract_text() for page in reader.pages if page.extract_text()])\n",
    "\n",
    "    return clean_text(text)"
   ]
  },
  {
   "cell_type": "code",
   "execution_count": 9,
   "id": "f31a0855-f217-4678-a27f-25e9f61c1241",
   "metadata": {},
   "outputs": [],
   "source": [
    "# Extract relevant skills and qualifications from resume\n",
    "def extract_resume_info(text):\n",
    "    doc = nlp(cleaned_text)\n",
    "    skills = [ent.text for ent in doc.ents if ent.label_ in [\"SKILLS\", \"EDUCATION\", \"DEGREE\"]]\n",
    "    # skills = {ent.label_: ent.text for ent in doc.ents}\n",
    "    return \", \".join(set(skills))  # Remove duplicates\n",
    "    # return skills"
   ]
  },
  {
   "cell_type": "code",
   "execution_count": 11,
   "id": "9be9cdb3-dd2a-41d7-afe8-2635820799cf",
   "metadata": {},
   "outputs": [],
   "source": [
    "def rank_real_resume(resume_text, job_description, vectorizer, tfidf_resumes):\n",
    "    \"\"\"Ranks a real resume against job descriptions using TF-IDF.\"\"\"\n",
    "    tfidf_resume = vectorizer.transform([resume_text])\n",
    "    tfidf_job = vectorizer.transform([job_description])\n",
    "    similarity_score = cosine_similarity(tfidf_resume, tfidf_job)[0][0]\n",
    "    return similarity_score"
   ]
  },
  {
   "cell_type": "code",
   "execution_count": 13,
   "id": "bdd1caaf-508a-4bbd-a832-ac95fc77c6d7",
   "metadata": {},
   "outputs": [],
   "source": [
    "def extract_relevant_skills(resume_text, predefined_skills):\n",
    "    \"\"\"Extracts predefined relevant skills from the resume text.\"\"\"\n",
    "    words = set(resume_text.split())  # Convert resume text into a set of words\n",
    "    matched_skills = words.intersection(predefined_skills)  # Find matching skills\n",
    "\n",
    "    # Find similar skills using fuzzy matching\n",
    "    for word in words:\n",
    "        close_matches = get_close_matches(word, predefined_skills, n=1, cutoff=0.8)\n",
    "        matched_skills.update(close_matches)\n",
    "\n",
    "    # Find partial matches using regex\n",
    "    for skill in predefined_skills:\n",
    "        pattern = rf\"\\b{skill.split()[0]}\\b\"  # Match the first word of the skill\n",
    "        if re.search(pattern, resume_text):\n",
    "            matched_skills.add(skill)\n",
    "        \n",
    "    return list(matched_skills)"
   ]
  },
  {
   "cell_type": "code",
   "execution_count": 5,
   "id": "1e56ffd1-7988-4726-8750-42d01a94a330",
   "metadata": {},
   "outputs": [],
   "source": []
  },
  {
   "cell_type": "code",
   "execution_count": 15,
   "id": "84ed86ee-be3d-4c74-b90c-ab1487978fcb",
   "metadata": {},
   "outputs": [],
   "source": [
    "# Initialize TF-IDF Vectorizer\n",
    "vectorizer = TfidfVectorizer(stop_words=\"english\")\n",
    "\n",
    "# Fit and transform resumes and job descriptions into TF-IDF vectors\n",
    "tfidf_resumes = vectorizer.fit_transform(resume_texts.apply(lambda x : clean_text(x)))\n",
    "tfidf_jobs = vectorizer.transform(job_descriptions.apply(lambda x : clean_text(x)))"
   ]
  },
  {
   "cell_type": "code",
   "execution_count": 17,
   "id": "cb4aa842-d158-494c-817c-f53f819af1dc",
   "metadata": {},
   "outputs": [],
   "source": [
    "# Compute Cosine Similarity between resumes and job descriptions\n",
    "similarity_scores = cosine_similarity(tfidf_resumes, tfidf_jobs)\n",
    "\n",
    "# Extract diagonal values where resumes are compared to their respective job descriptions\n",
    "df[\"TF-IDF Score\"] = np.diag(similarity_scores)"
   ]
  },
  {
   "cell_type": "code",
   "execution_count": 19,
   "id": "776cbe83-18f8-47e4-910a-096d5adf64cd",
   "metadata": {},
   "outputs": [],
   "source": [
    "# Rank resumes based on similarity score\n",
    "df_sorted = df.sort_values(by=\"TF-IDF Score\", ascending=False)\n",
    "\n",
    "# Save ranked results to a new CSV file\n",
    "# df_sorted.to_csv(\"ranked_resumes_tfidf.csv\", index=False)"
   ]
  },
  {
   "cell_type": "code",
   "execution_count": 21,
   "id": "6088e17d-fba5-4f94-b8e3-e0acdb292f7a",
   "metadata": {},
   "outputs": [
    {
     "data": {
      "text/plain": [
       "['rank_tfidf_vectorizer.pkl']"
      ]
     },
     "execution_count": 21,
     "metadata": {},
     "output_type": "execute_result"
    }
   ],
   "source": [
    "import joblib\n",
    "\n",
    "# joblib.dump(model, \"resume_screening_model.pkl\")  # Save model\n",
    "joblib.dump(vectorizer, \"rank_tfidf_vectorizer.pkl\")  # Save TF-IDF vectorizer\n"
   ]
  },
  {
   "cell_type": "code",
   "execution_count": null,
   "id": "cdd37809-a502-4320-a382-4f52ad9b02c4",
   "metadata": {},
   "outputs": [],
   "source": []
  }
 ],
 "metadata": {
  "kernelspec": {
   "display_name": "Python [conda env:base] *",
   "language": "python",
   "name": "conda-base-py"
  },
  "language_info": {
   "codemirror_mode": {
    "name": "ipython",
    "version": 3
   },
   "file_extension": ".py",
   "mimetype": "text/x-python",
   "name": "python",
   "nbconvert_exporter": "python",
   "pygments_lexer": "ipython3",
   "version": "3.12.2"
  }
 },
 "nbformat": 4,
 "nbformat_minor": 5
}
