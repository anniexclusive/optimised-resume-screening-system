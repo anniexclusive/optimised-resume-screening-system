{
 "cells": [
  {
   "cell_type": "code",
   "execution_count": 2,
   "id": "e596d711-ac29-4da7-b19a-0732ce39de38",
   "metadata": {},
   "outputs": [
    {
     "name": "stderr",
     "output_type": "stream",
     "text": [
      "Matplotlib is building the font cache; this may take a moment.\n"
     ]
    }
   ],
   "source": [
    "import numpy as np\n",
    "import pandas as pd\n",
    "import matplotlib.pyplot as plt\n",
    "import seaborn as sns\n",
    "from sklearn.model_selection import train_test_split\n",
    "from sklearn.feature_extraction.text import TfidfVectorizer\n",
    "from sklearn.ensemble import RandomForestClassifier\n",
    "from sklearn.metrics import accuracy_score, confusion_matrix\n",
    "import matplotlib.pyplot as plt\n",
    "import seaborn as sns"
   ]
  },
  {
   "cell_type": "code",
   "execution_count": 4,
   "id": "70819834-71c5-4e4e-a0bb-c0eb39cc50ee",
   "metadata": {},
   "outputs": [
    {
     "data": {
      "text/plain": [
       "Category\n",
       "Education                    410\n",
       "Electrical Engineering       384\n",
       "Mechanical Engineer          384\n",
       "Consultant                   368\n",
       "Sales                        364\n",
       "Civil Engineer               364\n",
       "Management                   361\n",
       "Human Resources              360\n",
       "Digital Media                358\n",
       "Accountant                   350\n",
       "Java Developer               348\n",
       "Operations Manager           345\n",
       "Building and Construction    345\n",
       "Testing                      344\n",
       "Architecture                 344\n",
       "Aviation                     340\n",
       "Business Analyst             340\n",
       "Finance                      339\n",
       "SQL Developer                338\n",
       "Public Relations             337\n",
       "Arts                         332\n",
       "Health and Fitness           332\n",
       "Network Security Engineer    330\n",
       "DotNet Developer             329\n",
       "Apparel                      320\n",
       "Banking                      314\n",
       "Automobile                   313\n",
       "Web Designing                309\n",
       "SAP Developer                304\n",
       "Data Science                 299\n",
       "ETL Developer                294\n",
       "Agriculture                  293\n",
       "Advocate                     291\n",
       "DevOps                       289\n",
       "PMO                          286\n",
       "Information Technology       274\n",
       "Designing                    258\n",
       "Database                     257\n",
       "Python Developer             248\n",
       "Name: count, dtype: int64"
      ]
     },
     "execution_count": 4,
     "metadata": {},
     "output_type": "execute_result"
    }
   ],
   "source": [
    "# Load dataset (update the filename as needed)\n",
    "df = pd.read_csv(\"train.csv\")\n",
    "\n",
    "df = df[df[\"Category\"] != \"BPO\"]\n",
    "# df.to_csv('train.csv', index=False)\n",
    "\n",
    "# View first few rows\n",
    "df['Category'].value_counts()"
   ]
  },
  {
   "cell_type": "code",
   "execution_count": 14,
   "id": "02c27861-174e-4055-a42c-63c131a585c0",
   "metadata": {},
   "outputs": [
    {
     "data": {
      "text/plain": [
       "(12795, 2)"
      ]
     },
     "execution_count": 14,
     "metadata": {},
     "output_type": "execute_result"
    }
   ],
   "source": [
    "df.shape"
   ]
  },
  {
   "cell_type": "code",
   "execution_count": 20,
   "id": "8cf58ddb-6e73-441d-903f-04b7e017ee59",
   "metadata": {},
   "outputs": [
    {
     "name": "stdout",
     "output_type": "stream",
     "text": [
      "(12795, 5000)\n"
     ]
    }
   ],
   "source": [
    "from sklearn.feature_extraction.text import TfidfVectorizer\n",
    "\n",
    "vectorizer = TfidfVectorizer(max_features=5000)  # Convert text into numeric form\n",
    "X = vectorizer.fit_transform(df['Text'])\n",
    "\n",
    "print(X.shape)  # Check the dimensions of processed data"
   ]
  },
  {
   "cell_type": "code",
   "execution_count": 22,
   "id": "3115cb87-b46e-4bc1-8c49-29bdd3b893a9",
   "metadata": {},
   "outputs": [],
   "source": [
    "from sklearn.model_selection import train_test_split\n",
    "from sklearn.ensemble import RandomForestClassifier\n",
    "from sklearn.metrics import accuracy_score\n",
    "from sklearn.svm import SVC\n",
    "\n",
    "# Assuming you have job roles or categories as labels\n",
    "y = df[\"Category\"]  \n",
    "\n",
    "# Split dataset into training and testing sets\n",
    "X_train, X_test, y_train, y_test = train_test_split(X, y, test_size=0.2, random_state=42)\n"
   ]
  },
  {
   "cell_type": "code",
   "execution_count": 24,
   "id": "d6c4eeb8-36f0-43ca-bca8-93ee14ada727",
   "metadata": {},
   "outputs": [
    {
     "name": "stdout",
     "output_type": "stream",
     "text": [
      "Model Accuracy: 0.81\n"
     ]
    }
   ],
   "source": [
    "# Train a Random Forest model\n",
    "model = SVC(kernel=\"linear\")\n",
    "model.fit(X_train, y_train)\n",
    "\n",
    "# Make predictions\n",
    "y_pred = model.predict(X_test)\n",
    "\n",
    "# Evaluate the model\n",
    "accuracy = accuracy_score(y_test, y_pred)\n",
    "print(f\"Model Accuracy: {accuracy:.2f}\")"
   ]
  },
  {
   "cell_type": "code",
   "execution_count": 11,
   "id": "4922c49d-5984-4a0c-b314-a36e74a1ef94",
   "metadata": {},
   "outputs": [
    {
     "name": "stdout",
     "output_type": "stream",
     "text": [
      "Accuracy: 0.7826736370425691\n"
     ]
    }
   ],
   "source": [
    "from sklearn.linear_model import LogisticRegression\n",
    "from sklearn.metrics import accuracy_score, classification_report\n",
    "\n",
    "# Train a Logistic Regression model\n",
    "model_LR = LogisticRegression(max_iter=1000)\n",
    "model_LR.fit(X_train, y_train)\n",
    "\n",
    "# Evaluate the model\n",
    "y_pred = model_LR.predict(X_test)\n",
    "print(\"Accuracy:\", accuracy_score(y_test, y_pred))"
   ]
  },
  {
   "cell_type": "code",
   "execution_count": null,
   "id": "d81da090-377c-4b46-b4af-f0336762f50b",
   "metadata": {},
   "outputs": [],
   "source": []
  }
 ],
 "metadata": {
  "kernelspec": {
   "display_name": "anaconda-2024.02-py310",
   "language": "python",
   "name": "conda-env-anaconda-2024.02-py310-py"
  },
  "language_info": {
   "codemirror_mode": {
    "name": "ipython",
    "version": 3
   },
   "file_extension": ".py",
   "mimetype": "text/x-python",
   "name": "python",
   "nbconvert_exporter": "python",
   "pygments_lexer": "ipython3",
   "version": "3.10.14"
  }
 },
 "nbformat": 4,
 "nbformat_minor": 5
}
