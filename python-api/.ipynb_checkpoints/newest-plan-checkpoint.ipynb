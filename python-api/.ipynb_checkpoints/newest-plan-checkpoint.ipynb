{
 "cells": [
  {
   "cell_type": "code",
   "execution_count": 1,
   "id": "ed4a376e-0cc6-4d8c-9b7a-16a5757d92dc",
   "metadata": {},
   "outputs": [
    {
     "name": "stdout",
     "output_type": "stream",
     "text": [
      "Category\n",
      "Education                    410\n",
      "Mechanical Engineer          384\n",
      "Electrical Engineering       384\n",
      "Consultant                   368\n",
      "Civil Engineer               364\n",
      "Sales                        364\n",
      "Management                   361\n",
      "Human Resources              360\n",
      "Digital Media                358\n",
      "Accountant                   350\n",
      "Java Developer               348\n",
      "Operations Manager           345\n",
      "Building and Construction    345\n",
      "Testing                      344\n",
      "Architecture                 344\n",
      "Business Analyst             340\n",
      "Aviation                     340\n",
      "Finance                      339\n",
      "SQL Developer                338\n",
      "Public Relations             337\n",
      "Health and Fitness           332\n",
      "Arts                         332\n",
      "Network Security Engineer    330\n",
      "DotNet Developer             329\n",
      "Apparel                      320\n",
      "Banking                      314\n",
      "Automobile                   313\n",
      "Web Designing                309\n",
      "SAP Developer                304\n",
      "Data Science                 299\n",
      "ETL Developer                294\n",
      "Agriculture                  293\n",
      "Advocate                     291\n",
      "DevOps                       289\n",
      "PMO                          286\n",
      "Information Technology       274\n",
      "Designing                    258\n",
      "Database                     257\n",
      "Python Developer             248\n",
      "Name: count, dtype: int64\n"
     ]
    }
   ],
   "source": [
    "import pandas as pd\n",
    "import numpy as np\n",
    "import re\n",
    "import string\n",
    "from sklearn.feature_extraction.text import TfidfVectorizer\n",
    "from sklearn.model_selection import train_test_split\n",
    "from sklearn.ensemble import RandomForestClassifier\n",
    "from sklearn.metrics import accuracy_score, classification_report\n",
    "from sklearn.neighbors import NearestNeighbors\n",
    "import joblib\n",
    "\n",
    "\n",
    "\n",
    "\n",
    "df['cleaned_resume'] = df['resume_text'].apply(clean_text)  # Assuming dataset has 'resume_text' column\n",
    "\n",
    "# Convert text to numerical features using TF-IDF\n",
    "vectorizer = TfidfVectorizer(max_features=5000)\n",
    "X = vectorizer.fit_transform(df['cleaned_resume'])\n",
    "y = df['category']  # Target variable: job category\n",
    "\n",
    "# Train-test split\n",
    "X_train, X_test, y_train, y_test = train_test_split(X, y, test_size=0.2, random_state=42)\n",
    "\n",
    "# Train a Random Forest model for category prediction\n",
    "model = RandomForestClassifier(n_estimators=100, random_state=42)\n",
    "model.fit(X_train, y_train)\n",
    "\n",
    "# Predictions\n",
    "y_pred = model.predict(X_test)\n",
    "\n",
    "# Evaluate model\n",
    "print(\"Accuracy:\", accuracy_score(y_test, y_pred))\n",
    "print(classification_report(y_test, y_pred))\n",
    "\n",
    "# Save the model & vectorizer\n",
    "joblib.dump(model, 'resume_category_model.pkl')\n",
    "joblib.dump(vectorizer, 'tfidf_vectorizer.pkl')\n",
    "\n",
    "print(\"Model training complete! 🎉\")"
   ]
  },
  {
   "cell_type": "code",
   "execution_count": null,
   "id": "85c6e875-a951-4e22-86e6-dd9b25f1dc5b",
   "metadata": {},
   "outputs": [],
   "source": [
    "# Load dataset (Assuming it's a CSV file from Kaggle)\n",
    "df = pd.read_csv('resume_dataset.csv')  # Replace with actual file name"
   ]
  },
  {
   "cell_type": "code",
   "execution_count": null,
   "id": "2a47b5a6-b3f4-4154-a462-d8b1e6e11b5c",
   "metadata": {},
   "outputs": [],
   "source": [
    "# Basic text preprocessing\n",
    "def clean_text(text):\n",
    "    if isinstance(text, str):\n",
    "        text = text.lower()\n",
    "        text = re.sub(f\"[{string.punctuation}]\", \"\", text)\n",
    "        text = re.sub(\"\\d+\", \"\", text)  # Remove numbers\n",
    "        return text\n",
    "    return \"\"\n"
   ]
  },
  {
   "cell_type": "code",
   "execution_count": null,
   "id": "23f8ea41-3383-4028-bc62-9f271ea91d95",
   "metadata": {},
   "outputs": [],
   "source": []
  },
  {
   "cell_type": "code",
   "execution_count": null,
   "id": "b9eb0213-c418-49b1-9565-4895f25088cd",
   "metadata": {},
   "outputs": [],
   "source": [
    "# Resume ranking based on job description\n",
    "def rank_resumes(job_description, top_n=5):\n",
    "    job_description_cleaned = clean_text(job_description)\n",
    "    job_vector = vectorizer.transform([job_description_cleaned])\n",
    "    \n",
    "    # Use Nearest Neighbors to find similar resumes\n",
    "    nn = NearestNeighbors(n_neighbors=top_n, metric='cosine')\n",
    "    nn.fit(X)\n",
    "    distances, indices = nn.kneighbors(job_vector)\n",
    "    \n",
    "    return df.iloc[indices[0]]\n",
    "\n",
    "# Example usage\n",
    "job_desc = \"Looking for a data scientist with expertise in Python and machine learning.\"\n",
    "top_resumes = rank_resumes(job_desc, top_n=5)\n",
    "print(top_resumes[['category', 'resume_text']])"
   ]
  },
  {
   "cell_type": "code",
   "execution_count": null,
   "id": "b409823b-8a10-406d-8d82-02574a6fb4cf",
   "metadata": {},
   "outputs": [],
   "source": []
  },
  {
   "cell_type": "code",
   "execution_count": null,
   "id": "032fce66-bca2-4ca8-afae-e1b8f7711ac8",
   "metadata": {},
   "outputs": [],
   "source": []
  },
  {
   "cell_type": "code",
   "execution_count": 122,
   "id": "43e7e04f-2fd5-4f22-9ca7-d18ca4ef3a96",
   "metadata": {},
   "outputs": [],
   "source": [
    "#final step above "
   ]
  },
  {
   "cell_type": "code",
   "execution_count": null,
   "id": "92647db5-291a-407f-9397-237416da3f9c",
   "metadata": {},
   "outputs": [],
   "source": []
  },
  {
   "cell_type": "code",
   "execution_count": null,
   "id": "e5deb9f7-0510-403b-9175-58a916bbe063",
   "metadata": {},
   "outputs": [],
   "source": []
  }
 ],
 "metadata": {
  "kernelspec": {
   "display_name": "Python [conda env:base] *",
   "language": "python",
   "name": "conda-base-py"
  },
  "language_info": {
   "codemirror_mode": {
    "name": "ipython",
    "version": 3
   },
   "file_extension": ".py",
   "mimetype": "text/x-python",
   "name": "python",
   "nbconvert_exporter": "python",
   "pygments_lexer": "ipython3",
   "version": "3.12.2"
  }
 },
 "nbformat": 4,
 "nbformat_minor": 5
}
